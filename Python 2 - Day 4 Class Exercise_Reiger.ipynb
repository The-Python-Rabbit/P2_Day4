{
 "cells": [
  {
   "cell_type": "markdown",
   "metadata": {},
   "source": [
    "Exercise 1. \n",
    "\n",
    "Create a table named Countries which has country_id column as the primary key and name column. Then insert least 3 rows of data and use SELECT command to show the contents of the table. "
   ]
  },
  {
   "cell_type": "code",
   "execution_count": 1,
   "metadata": {},
   "outputs": [],
   "source": [
    "# You need to run this cell to connect to in-memory database\n",
    "\n",
    "#importing the sqlite module \n",
    "import sqlite3\n",
    "\n",
    "# In memory database\n",
    "dbconn = sqlite3.connect(':memory:')\n",
    "\n",
    "#set a variable up for the cursor to write SQL scripts\n",
    "db = dbconn.cursor()"
   ]
  },
  {
   "cell_type": "code",
   "execution_count": 2,
   "metadata": {},
   "outputs": [
    {
     "name": "stdout",
     "output_type": "stream",
     "text": [
      "[(1, 'Bhutan'), (2, 'Nepal'), (3, 'Germany'), (4, 'Austria')]\n"
     ]
    }
   ],
   "source": [
    "db.execute (\"\"\"CREATE TABLE Country (Country_ID INTEGER PRIMARY KEY AUTOINCREMENT,\n",
    "                                    Name TEXT)\n",
    "            \"\"\")\n",
    "dbconn.commit()\n",
    "db.execute(\"INSERT INTO Country VALUES (NULL, 'Bhutan')\")\n",
    "db.execute(\"INSERT INTO Country VALUES (NULL, 'Nepal')\")\n",
    "db.execute(\"INSERT INTO Country VALUES (NULL, 'Germany')\")\n",
    "db.execute(\"INSERT INTO Country VALUES (NULL, 'Austria')\")\n",
    "dbconn.commit()\n",
    "db.execute ('SELECT * FROM Country')\n",
    "print (db.fetchall())"
   ]
  },
  {
   "cell_type": "markdown",
   "metadata": {},
   "source": [
    "Exercise 2.\n",
    "\n",
    "Create a table name Cities which has city_id column as the primary key, name column, population column, and country_id column as the foreign key connecting to country_id column of Countries table from Exercise 1. \n",
    "\n",
    "Then \n",
    "- insert least 5 rows of data \n",
    "- use SELECT command to show the contents of the table\n",
    "- use SELECT command to only show the cities of selected country"
   ]
  },
  {
   "cell_type": "code",
   "execution_count": 3,
   "metadata": {},
   "outputs": [
    {
     "name": "stdout",
     "output_type": "stream",
     "text": [
      "[(1, 'Kathmandu', 1471867, 2), (2, 'Pokhara', 439000, 2), (3, 'Thimphu', 98676, 1), (4, 'Paro', 2362, 1), (5, 'Franfurt', 784780, 3), (6, 'Vienna', 1944910, 4)]\n",
      "\n",
      "Cities in Nepal:\n",
      "[('Kathmandu',), ('Pokhara',)]\n"
     ]
    }
   ],
   "source": [
    "db.execute (\"\"\"CREATE TABLE Cities (City_ID INTEGER PRIMARY KEY AUTOINCREMENT, \n",
    "                                   Name Text, \n",
    "                                   Population INTEGER,\n",
    "                                   Country_ID INTEGER NOT NULL,\n",
    "                                   FOREIGN KEY(Country_ID) REFERENCES Country (Country_ID))\"\"\")\n",
    "\n",
    "dbconn.commit()\n",
    "db.execute (\"INSERT INTO Cities VALUES (NULL, 'Kathmandu', 1471867, 2)\")\n",
    "db.execute (\"INSERT INTO Cities VALUES (NULL, 'Pokhara', 439000, 2)\")\n",
    "db.execute (\"INSERT INTO Cities VALUES (NULL, 'Thimphu', 98676, 1)\")\n",
    "db.execute (\"INSERT INTO Cities VALUES (NULL, 'Paro', 2362, 1)\")\n",
    "db.execute (\"INSERT INTO Cities VALUES (NULL, 'Franfurt', 784780, 3)\")\n",
    "db.execute (\"INSERT INTO Cities VALUES (NULL, 'Vienna', 1944910, 4)\")\n",
    "dbconn.commit()\n",
    "db.execute (\"SELECT * FROM Cities\")\n",
    "print(db.fetchall())\n",
    "#\n",
    "# Show cities in Nepal\n",
    "#\n",
    "print(\"\\nCities in Nepal:\")\n",
    "db.execute (\"SELECT Name FROM Cities WHERE Country_ID = 2\")\n",
    "print(db.fetchall())"
   ]
  },
  {
   "cell_type": "code",
   "execution_count": null,
   "metadata": {},
   "outputs": [],
   "source": []
  },
  {
   "cell_type": "code",
   "execution_count": null,
   "metadata": {},
   "outputs": [],
   "source": []
  },
  {
   "cell_type": "markdown",
   "metadata": {},
   "source": [
    "Exercise 3.\n",
    "\n",
    "Modify 3rd row of Cities table to increase city's population by 1,000. Show data before and after the change."
   ]
  },
  {
   "cell_type": "code",
   "execution_count": 4,
   "metadata": {},
   "outputs": [
    {
     "name": "stdout",
     "output_type": "stream",
     "text": [
      "Before increasing population\n",
      "[(3, 'Thimphu', 98676, 1)]\n",
      "\n",
      "After increasing population by 1000\n",
      "[(3, 'Thimphu', 99676, 1)]\n"
     ]
    }
   ],
   "source": [
    "print(\"Before increasing population\")\n",
    "\n",
    "db.execute ('SELECT * FROM Cities WHERE RowID=3')\n",
    "print(db.fetchall())\n",
    "db.execute ('SELECT * FROM Cities WHERE RowID=3')\n",
    "new_value = db.fetchone()[2] + 1000\n",
    "\n",
    "db.execute ('UPDATE Cities set Population = ? WHERE RowID=3',(new_value,))\n",
    "db.execute ('SELECT * FROM Cities WHERE RowID=3')\n",
    "\n",
    "print (\"\\nAfter increasing population by 1000\")\n",
    "print (db.fetchall())"
   ]
  },
  {
   "cell_type": "code",
   "execution_count": null,
   "metadata": {},
   "outputs": [],
   "source": []
  }
 ],
 "metadata": {
  "kernelspec": {
   "display_name": "Python 3",
   "language": "python",
   "name": "python3"
  },
  "language_info": {
   "codemirror_mode": {
    "name": "ipython",
    "version": 3
   },
   "file_extension": ".py",
   "mimetype": "text/x-python",
   "name": "python",
   "nbconvert_exporter": "python",
   "pygments_lexer": "ipython3",
   "version": "3.8.8"
  }
 },
 "nbformat": 4,
 "nbformat_minor": 4
}
